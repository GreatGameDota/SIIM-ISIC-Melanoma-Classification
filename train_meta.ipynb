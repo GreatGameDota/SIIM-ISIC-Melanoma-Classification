{
  "nbformat": 4,
  "nbformat_minor": 0,
  "metadata": {
    "colab": {
      "name": "train_meta.ipynb",
      "provenance": [],
      "collapsed_sections": [
        "RgXuAGbHGWG2",
        "B-4yhmTgtG9q",
        "sWixylOGuvzT",
        "4uMauTcMxLk7"
      ],
      "include_colab_link": true
    },
    "kernelspec": {
      "name": "python3",
      "display_name": "Python 3"
    },
    "accelerator": "GPU"
  },
  "cells": [
    {
      "cell_type": "markdown",
      "metadata": {
        "id": "view-in-github",
        "colab_type": "text"
      },
      "source": [
        "<a href=\"https://colab.research.google.com/github/GreatGameDota/SIIM-ISIC-Melanoma-Classification/blob/master/train_meta.ipynb\" target=\"_parent\"><img src=\"https://colab.research.google.com/assets/colab-badge.svg\" alt=\"Open In Colab\"/></a>"
      ]
    },
    {
      "cell_type": "code",
      "metadata": {
        "id": "0bYP7Ynmq0w9",
        "colab_type": "code",
        "colab": {
          "base_uri": "https://localhost:8080/",
          "height": 372
        },
        "outputId": "26afe178-41df-4982-d1c7-695e5e628fb4"
      },
      "source": [
        "!nvidia-smi"
      ],
      "execution_count": null,
      "outputs": [
        {
          "output_type": "stream",
          "text": [
            "Mon Aug 17 14:35:57 2020       \n",
            "+-----------------------------------------------------------------------------+\n",
            "| NVIDIA-SMI 450.57       Driver Version: 418.67       CUDA Version: 10.1     |\n",
            "|-------------------------------+----------------------+----------------------+\n",
            "| GPU  Name        Persistence-M| Bus-Id        Disp.A | Volatile Uncorr. ECC |\n",
            "| Fan  Temp  Perf  Pwr:Usage/Cap|         Memory-Usage | GPU-Util  Compute M. |\n",
            "|                               |                      |               MIG M. |\n",
            "|===============================+======================+======================|\n",
            "|   0  Tesla P100-PCIE...  Off  | 00000000:00:04.0 Off |                    0 |\n",
            "| N/A   37C    P0    27W / 250W |      0MiB / 16280MiB |      0%      Default |\n",
            "|                               |                      |                 ERR! |\n",
            "+-------------------------------+----------------------+----------------------+\n",
            "                                                                               \n",
            "+-----------------------------------------------------------------------------+\n",
            "| Processes:                                                                  |\n",
            "|  GPU   GI   CI        PID   Type   Process name                  GPU Memory |\n",
            "|        ID   ID                                                   Usage      |\n",
            "|=============================================================================|\n",
            "|  No running processes found                                                 |\n",
            "+-----------------------------------------------------------------------------+\n"
          ],
          "name": "stdout"
        }
      ]
    },
    {
      "cell_type": "code",
      "metadata": {
        "id": "82sy2nI2q9Eh",
        "colab_type": "code",
        "colab": {
          "base_uri": "https://localhost:8080/",
          "height": 35
        },
        "outputId": "86e7a21c-d5c1-4e6e-e74d-9092d6b1333b"
      },
      "source": [
        "from google.colab import drive\n",
        "drive.mount('/content/drive')"
      ],
      "execution_count": null,
      "outputs": [
        {
          "output_type": "stream",
          "text": [
            "Drive already mounted at /content/drive; to attempt to forcibly remount, call drive.mount(\"/content/drive\", force_remount=True).\n"
          ],
          "name": "stdout"
        }
      ]
    },
    {
      "cell_type": "markdown",
      "metadata": {
        "id": "B-4yhmTgtG9q",
        "colab_type": "text"
      },
      "source": [
        "#### Download data"
      ]
    },
    {
      "cell_type": "code",
      "metadata": {
        "id": "U42AwrOZq9V8",
        "colab_type": "code",
        "colab": {
          "base_uri": "https://localhost:8080/"
        },
        "outputId": "82e67423-abec-48b2-8e9a-c36c8e6b8329"
      },
      "source": [
        "import json\n",
        "import zipfile\n",
        "import os\n",
        "os.chdir('/content')\n",
        "\n",
        "!pip install kaggle --quiet\n",
        "\n",
        "api_token = {\"username\":\"greatgamedota\",\"key\":\"\"} # Get the key from create new api token on https://www.kaggle.com/greatgamedota/account\n",
        "!mkdir /root/.kaggle # create a dir for key\n",
        "with open('/root/.kaggle/kaggle.json', 'w') as file:\n",
        "    json.dump(api_token, file)\n",
        "!chmod 600 /root/.kaggle/kaggle.json # make sure no one else can read the key\n",
        "\n",
        "if not os.path.isdir('train/'):\n",
        "  !kaggle datasets download -d cdeotte/jpeg-melanoma-512x512\n",
        "  !unzip -q jpeg-melanoma-512x512.zip\n",
        "  !rm jpeg-melanoma-512x512.zip\n",
        "\n",
        "  !kaggle datasets download -d cdeotte/jpeg-isic2019-512x512\n",
        "  !unzip -q jpeg-isic2019-512x512.zip -d 'isic2019/'\n",
        "  !rm jpeg-isic2019-512x512.zip\n",
        "  \n",
        "  !kaggle datasets download -d cdeotte/malignant-v2-512x512\n",
        "  !unzip -q malignant-v2-512x512.zip -d 'isic/'\n",
        "  !rm malignant-v2-512x512.zip\n",
        "\n",
        "  !kaggle datasets download -d nroman/melanoma-hairs\n",
        "  !unzip -q melanoma-hairs -d 'hairs/'\n",
        "  !rm melanoma-hairs.zip"
      ],
      "execution_count": null,
      "outputs": [
        {
          "output_type": "stream",
          "text": [
            "mkdir: cannot create directory ‘/root/.kaggle’: File exists\n"
          ],
          "name": "stdout"
        }
      ]
    },
    {
      "cell_type": "markdown",
      "metadata": {
        "id": "ka5ZzQ-ZtFRw",
        "colab_type": "text"
      },
      "source": [
        "#### ."
      ]
    },
    {
      "cell_type": "code",
      "metadata": {
        "id": "uzJo_QdJrJnS",
        "colab_type": "code",
        "colab": {}
      },
      "source": [
        "import pandas as pd\n",
        "import numpy as np\n",
        "import matplotlib.pyplot as plt\n",
        "import cv2\n",
        "from tqdm import tqdm,trange\n",
        "\n",
        "import torch\n",
        "import torch.nn as nn\n",
        "import torch.nn.functional as F\n",
        "from torch.cuda import amp\n",
        "\n",
        "# from apex import amp\n",
        "\n",
        "import warnings\n",
        "warnings.filterwarnings(\"ignore\")\n",
        "\n",
        "from sklearn.metrics import roc_auc_score\n",
        "from sklearn.model_selection import KFold\n",
        "\n",
        "class config:\n",
        "    epochs = 15\n",
        "    batch_size = 16\n",
        "    regression = False\n",
        "    num_classes = 1\n",
        "    meta_features = 9\n",
        "    IMAGE_PATH = 'train/'\n",
        "    TEST_PATH = 'test/'\n",
        "    lr = 1e-4\n",
        "    # lr = 3e-4\n",
        "    mean = [0.485, 0.456, 0.406],\n",
        "    std = [0.229, 0.224, 0.225],\n",
        "    seed = 42\n",
        "    mixup = 0\n",
        "    cutmix = 0\n",
        "    accumulation_steps = 1\n",
        "    single_fold = 4\n",
        "    folds = 5\n",
        "    apex = False\n",
        "    scale = True\n",
        "    label_smoothing = 0.03\n",
        "    pos_weight = 1\n",
        "\n",
        "import random\n",
        "def seed_everything(seed):\n",
        "    random.seed(seed)\n",
        "    os.environ['PYTHONHASHSEED'] = str(seed)\n",
        "    np.random.seed(seed)\n",
        "    torch.manual_seed(seed)\n",
        "    torch.cuda.manual_seed(seed)\n",
        "    torch.backends.cudnn.deterministic = True\n",
        "    torch.backends.cudnn.benchmark = True\n",
        "\n",
        "seed_everything(config.seed)"
      ],
      "execution_count": null,
      "outputs": []
    },
    {
      "cell_type": "code",
      "metadata": {
        "id": "ibHVA5prt3ED",
        "colab_type": "code",
        "colab": {}
      },
      "source": [
        "train_df1 = pd.read_csv('train.csv')\n",
        "train_df3 = pd.read_csv('isic2019/train.csv')\n",
        "# train_df2 = pd.concat([train_df1,train_df3[train_df3['target']==1]])\n",
        "train_df2 = train_df1"
      ],
      "execution_count": null,
      "outputs": []
    },
    {
      "cell_type": "code",
      "metadata": {
        "id": "bU99i4awWvE8",
        "colab_type": "code",
        "colab": {}
      },
      "source": [
        "train_df4 = pd.read_csv('isic/train_malig_1.csv') # 584 2020\n",
        "train_df5 = pd.read_csv('isic/train_malig_2.csv') # 580 ISIC Website\n",
        "train_df6 = pd.read_csv('isic/train_malig_3.csv') # 2018/9"
      ],
      "execution_count": null,
      "outputs": []
    },
    {
      "cell_type": "markdown",
      "metadata": {
        "id": "RaCPVVTGZ3sp",
        "colab_type": "text"
      },
      "source": [
        "#### Meta Data"
      ]
    },
    {
      "cell_type": "code",
      "metadata": {
        "id": "P_F3mfC0Z3Pd",
        "colab_type": "code",
        "colab": {
          "base_uri": "https://localhost:8080/",
          "height": 194
        },
        "outputId": "b5aaa655-3505-4ad8-a186-9086a14f1181"
      },
      "source": [
        "train = pd.read_csv('train.csv')\n",
        "test = pd.read_csv('test.csv')\n",
        "\n",
        "train.columns = [\n",
        "    'img_name', 'id', 'sex', 'age', 'location', 'diagnosis',\n",
        "    'benign_malignant', 'target', 'tfrecord', 'width', 'height'\n",
        "]\n",
        "test.columns = ['img_name', 'id', 'sex', 'age', 'location', 'width', 'height']\n",
        "\n",
        "for df in [train, test]:\n",
        "    df['location'].fillna('unknown', inplace=True)\n",
        "\n",
        "# train['sex'].fillna(train['sex'].mode()[0], inplace=True)\n",
        "train['sex'].fillna('na', inplace=True)\n",
        "\n",
        "# train['age'].fillna(train['age'].median(), inplace=True)\n",
        "train['age'].fillna(-5, inplace=True)\n",
        "\n",
        "sex_dummies = pd.get_dummies(train['sex'], prefix='sex')\n",
        "train = pd.concat([train, sex_dummies], axis=1)\n",
        "\n",
        "sex_dummies = pd.get_dummies(test['sex'], prefix='sex')\n",
        "test = pd.concat([test, sex_dummies], axis=1)\n",
        "\n",
        "anatom_dummies = pd.get_dummies(train['location'], prefix='anatom')\n",
        "train = pd.concat([train, anatom_dummies], axis=1)\n",
        "\n",
        "anatom_dummies = pd.get_dummies(test['location'], prefix='anatom')\n",
        "test = pd.concat([test, anatom_dummies], axis=1)\n",
        "\n",
        "train.drop(['sex', 'sex_na', 'location', 'anatom_unknown', 'target','id','diagnosis','benign_malignant', 'width', 'height', 'tfrecord'], axis=1, inplace=True)\n",
        "test.drop(['sex', 'anatom_unknown', 'location', 'id','width', 'height'], axis=1, inplace=True)\n",
        "\n",
        "train.head()"
      ],
      "execution_count": null,
      "outputs": [
        {
          "output_type": "execute_result",
          "data": {
            "text/html": [
              "<div>\n",
              "<style scoped>\n",
              "    .dataframe tbody tr th:only-of-type {\n",
              "        vertical-align: middle;\n",
              "    }\n",
              "\n",
              "    .dataframe tbody tr th {\n",
              "        vertical-align: top;\n",
              "    }\n",
              "\n",
              "    .dataframe thead th {\n",
              "        text-align: right;\n",
              "    }\n",
              "</style>\n",
              "<table border=\"1\" class=\"dataframe\">\n",
              "  <thead>\n",
              "    <tr style=\"text-align: right;\">\n",
              "      <th></th>\n",
              "      <th>img_name</th>\n",
              "      <th>age</th>\n",
              "      <th>sex_female</th>\n",
              "      <th>sex_male</th>\n",
              "      <th>anatom_head/neck</th>\n",
              "      <th>anatom_lower extremity</th>\n",
              "      <th>anatom_oral/genital</th>\n",
              "      <th>anatom_palms/soles</th>\n",
              "      <th>anatom_torso</th>\n",
              "      <th>anatom_upper extremity</th>\n",
              "    </tr>\n",
              "  </thead>\n",
              "  <tbody>\n",
              "    <tr>\n",
              "      <th>0</th>\n",
              "      <td>ISIC_2637011</td>\n",
              "      <td>45.0</td>\n",
              "      <td>0</td>\n",
              "      <td>1</td>\n",
              "      <td>1</td>\n",
              "      <td>0</td>\n",
              "      <td>0</td>\n",
              "      <td>0</td>\n",
              "      <td>0</td>\n",
              "      <td>0</td>\n",
              "    </tr>\n",
              "    <tr>\n",
              "      <th>1</th>\n",
              "      <td>ISIC_0015719</td>\n",
              "      <td>45.0</td>\n",
              "      <td>1</td>\n",
              "      <td>0</td>\n",
              "      <td>0</td>\n",
              "      <td>0</td>\n",
              "      <td>0</td>\n",
              "      <td>0</td>\n",
              "      <td>0</td>\n",
              "      <td>1</td>\n",
              "    </tr>\n",
              "    <tr>\n",
              "      <th>2</th>\n",
              "      <td>ISIC_0052212</td>\n",
              "      <td>50.0</td>\n",
              "      <td>1</td>\n",
              "      <td>0</td>\n",
              "      <td>0</td>\n",
              "      <td>1</td>\n",
              "      <td>0</td>\n",
              "      <td>0</td>\n",
              "      <td>0</td>\n",
              "      <td>0</td>\n",
              "    </tr>\n",
              "    <tr>\n",
              "      <th>3</th>\n",
              "      <td>ISIC_0068279</td>\n",
              "      <td>45.0</td>\n",
              "      <td>1</td>\n",
              "      <td>0</td>\n",
              "      <td>1</td>\n",
              "      <td>0</td>\n",
              "      <td>0</td>\n",
              "      <td>0</td>\n",
              "      <td>0</td>\n",
              "      <td>0</td>\n",
              "    </tr>\n",
              "    <tr>\n",
              "      <th>4</th>\n",
              "      <td>ISIC_0074268</td>\n",
              "      <td>55.0</td>\n",
              "      <td>1</td>\n",
              "      <td>0</td>\n",
              "      <td>0</td>\n",
              "      <td>0</td>\n",
              "      <td>0</td>\n",
              "      <td>0</td>\n",
              "      <td>0</td>\n",
              "      <td>1</td>\n",
              "    </tr>\n",
              "  </tbody>\n",
              "</table>\n",
              "</div>"
            ],
            "text/plain": [
              "       img_name   age  ...  anatom_torso  anatom_upper extremity\n",
              "0  ISIC_2637011  45.0  ...             0                       0\n",
              "1  ISIC_0015719  45.0  ...             0                       1\n",
              "2  ISIC_0052212  50.0  ...             0                       0\n",
              "3  ISIC_0068279  45.0  ...             0                       0\n",
              "4  ISIC_0074268  55.0  ...             0                       1\n",
              "\n",
              "[5 rows x 10 columns]"
            ]
          },
          "metadata": {
            "tags": []
          },
          "execution_count": 9
        }
      ]
    },
    {
      "cell_type": "code",
      "metadata": {
        "id": "ZZrPYUhO1HzJ",
        "colab_type": "code",
        "colab": {
          "base_uri": "https://localhost:8080/",
          "height": 194
        },
        "outputId": "066b3586-e195-4181-bfe6-7e0d04edd7f5"
      },
      "source": [
        "test.head()"
      ],
      "execution_count": null,
      "outputs": [
        {
          "output_type": "execute_result",
          "data": {
            "text/html": [
              "<div>\n",
              "<style scoped>\n",
              "    .dataframe tbody tr th:only-of-type {\n",
              "        vertical-align: middle;\n",
              "    }\n",
              "\n",
              "    .dataframe tbody tr th {\n",
              "        vertical-align: top;\n",
              "    }\n",
              "\n",
              "    .dataframe thead th {\n",
              "        text-align: right;\n",
              "    }\n",
              "</style>\n",
              "<table border=\"1\" class=\"dataframe\">\n",
              "  <thead>\n",
              "    <tr style=\"text-align: right;\">\n",
              "      <th></th>\n",
              "      <th>img_name</th>\n",
              "      <th>age</th>\n",
              "      <th>sex_female</th>\n",
              "      <th>sex_male</th>\n",
              "      <th>anatom_head/neck</th>\n",
              "      <th>anatom_lower extremity</th>\n",
              "      <th>anatom_oral/genital</th>\n",
              "      <th>anatom_palms/soles</th>\n",
              "      <th>anatom_torso</th>\n",
              "      <th>anatom_upper extremity</th>\n",
              "    </tr>\n",
              "  </thead>\n",
              "  <tbody>\n",
              "    <tr>\n",
              "      <th>0</th>\n",
              "      <td>ISIC_0052060</td>\n",
              "      <td>70.0</td>\n",
              "      <td>0</td>\n",
              "      <td>1</td>\n",
              "      <td>0</td>\n",
              "      <td>0</td>\n",
              "      <td>0</td>\n",
              "      <td>0</td>\n",
              "      <td>0</td>\n",
              "      <td>0</td>\n",
              "    </tr>\n",
              "    <tr>\n",
              "      <th>1</th>\n",
              "      <td>ISIC_0052349</td>\n",
              "      <td>40.0</td>\n",
              "      <td>0</td>\n",
              "      <td>1</td>\n",
              "      <td>0</td>\n",
              "      <td>1</td>\n",
              "      <td>0</td>\n",
              "      <td>0</td>\n",
              "      <td>0</td>\n",
              "      <td>0</td>\n",
              "    </tr>\n",
              "    <tr>\n",
              "      <th>2</th>\n",
              "      <td>ISIC_0058510</td>\n",
              "      <td>55.0</td>\n",
              "      <td>1</td>\n",
              "      <td>0</td>\n",
              "      <td>0</td>\n",
              "      <td>0</td>\n",
              "      <td>0</td>\n",
              "      <td>0</td>\n",
              "      <td>1</td>\n",
              "      <td>0</td>\n",
              "    </tr>\n",
              "    <tr>\n",
              "      <th>3</th>\n",
              "      <td>ISIC_0073313</td>\n",
              "      <td>50.0</td>\n",
              "      <td>1</td>\n",
              "      <td>0</td>\n",
              "      <td>0</td>\n",
              "      <td>0</td>\n",
              "      <td>0</td>\n",
              "      <td>0</td>\n",
              "      <td>1</td>\n",
              "      <td>0</td>\n",
              "    </tr>\n",
              "    <tr>\n",
              "      <th>4</th>\n",
              "      <td>ISIC_0073502</td>\n",
              "      <td>45.0</td>\n",
              "      <td>1</td>\n",
              "      <td>0</td>\n",
              "      <td>0</td>\n",
              "      <td>1</td>\n",
              "      <td>0</td>\n",
              "      <td>0</td>\n",
              "      <td>0</td>\n",
              "      <td>0</td>\n",
              "    </tr>\n",
              "  </tbody>\n",
              "</table>\n",
              "</div>"
            ],
            "text/plain": [
              "       img_name   age  ...  anatom_torso  anatom_upper extremity\n",
              "0  ISIC_0052060  70.0  ...             0                       0\n",
              "1  ISIC_0052349  40.0  ...             0                       0\n",
              "2  ISIC_0058510  55.0  ...             1                       0\n",
              "3  ISIC_0073313  50.0  ...             1                       0\n",
              "4  ISIC_0073502  45.0  ...             0                       0\n",
              "\n",
              "[5 rows x 10 columns]"
            ]
          },
          "metadata": {
            "tags": []
          },
          "execution_count": 10
        }
      ]
    },
    {
      "cell_type": "code",
      "metadata": {
        "id": "hQZKMDbKKeLz",
        "colab_type": "code",
        "colab": {
          "base_uri": "https://localhost:8080/",
          "height": 194
        },
        "outputId": "a07e556a-18af-49d0-92ee-d2a49d1def4d"
      },
      "source": [
        "train2 = pd.read_csv('isic2019/train.csv')\n",
        "\n",
        "train2.columns = [\n",
        "    'img_name', 'id', 'sex', 'age', 'location', 'diagnosis',\n",
        "    'benign_malignant', 'target', 'tfrecord', 'width', 'height'\n",
        "]\n",
        "\n",
        "train2['location'].fillna('unknown', inplace=True)\n",
        "\n",
        "# train['sex'].fillna(train['sex'].mode()[0], inplace=True)\n",
        "train2['sex'].fillna('na', inplace=True)\n",
        "\n",
        "# train['age'].fillna(train['age'].median(), inplace=True)\n",
        "train2['age'].fillna(-5, inplace=True)\n",
        "\n",
        "sex_dummies = pd.get_dummies(train2['sex'], prefix='sex')\n",
        "train2 = pd.concat([train2, sex_dummies], axis=1)\n",
        "\n",
        "anatom_dummies = pd.get_dummies(train2['location'], prefix='anatom')\n",
        "train2 = pd.concat([train2, anatom_dummies], axis=1)\n",
        "\n",
        "cols = ['anatom_anterior torso', 'anatom_lateral torso', 'anatom_posterior torso']\n",
        "train2['anatom_torso'] = train2[cols].sum(1)\n",
        "\n",
        "train2.drop(['sex', 'sex_unknown', 'location', 'anatom_unknown', 'target','id','diagnosis','benign_malignant', 'width', 'height', 'tfrecord'], axis=1, inplace=True)\n",
        "train2.drop(cols, axis=1, inplace=True)\n",
        "\n",
        "cols = ['anatom_upper extremity',\t'anatom_torso']\n",
        "train2 = train2[[c for c in train2 if c not in cols] + [cols[1], cols[0]]]\n",
        "\n",
        "train2.head()"
      ],
      "execution_count": null,
      "outputs": [
        {
          "output_type": "execute_result",
          "data": {
            "text/html": [
              "<div>\n",
              "<style scoped>\n",
              "    .dataframe tbody tr th:only-of-type {\n",
              "        vertical-align: middle;\n",
              "    }\n",
              "\n",
              "    .dataframe tbody tr th {\n",
              "        vertical-align: top;\n",
              "    }\n",
              "\n",
              "    .dataframe thead th {\n",
              "        text-align: right;\n",
              "    }\n",
              "</style>\n",
              "<table border=\"1\" class=\"dataframe\">\n",
              "  <thead>\n",
              "    <tr style=\"text-align: right;\">\n",
              "      <th></th>\n",
              "      <th>img_name</th>\n",
              "      <th>age</th>\n",
              "      <th>sex_female</th>\n",
              "      <th>sex_male</th>\n",
              "      <th>anatom_head/neck</th>\n",
              "      <th>anatom_lower extremity</th>\n",
              "      <th>anatom_oral/genital</th>\n",
              "      <th>anatom_palms/soles</th>\n",
              "      <th>anatom_torso</th>\n",
              "      <th>anatom_upper extremity</th>\n",
              "    </tr>\n",
              "  </thead>\n",
              "  <tbody>\n",
              "    <tr>\n",
              "      <th>0</th>\n",
              "      <td>ISIC_0000000</td>\n",
              "      <td>55.0</td>\n",
              "      <td>1</td>\n",
              "      <td>0</td>\n",
              "      <td>0</td>\n",
              "      <td>0</td>\n",
              "      <td>0</td>\n",
              "      <td>0</td>\n",
              "      <td>1</td>\n",
              "      <td>0</td>\n",
              "    </tr>\n",
              "    <tr>\n",
              "      <th>1</th>\n",
              "      <td>ISIC_0000001</td>\n",
              "      <td>30.0</td>\n",
              "      <td>1</td>\n",
              "      <td>0</td>\n",
              "      <td>0</td>\n",
              "      <td>0</td>\n",
              "      <td>0</td>\n",
              "      <td>0</td>\n",
              "      <td>1</td>\n",
              "      <td>0</td>\n",
              "    </tr>\n",
              "    <tr>\n",
              "      <th>2</th>\n",
              "      <td>ISIC_0000002</td>\n",
              "      <td>60.0</td>\n",
              "      <td>1</td>\n",
              "      <td>0</td>\n",
              "      <td>0</td>\n",
              "      <td>0</td>\n",
              "      <td>0</td>\n",
              "      <td>0</td>\n",
              "      <td>0</td>\n",
              "      <td>1</td>\n",
              "    </tr>\n",
              "    <tr>\n",
              "      <th>3</th>\n",
              "      <td>ISIC_0000003</td>\n",
              "      <td>30.0</td>\n",
              "      <td>0</td>\n",
              "      <td>1</td>\n",
              "      <td>0</td>\n",
              "      <td>0</td>\n",
              "      <td>0</td>\n",
              "      <td>0</td>\n",
              "      <td>0</td>\n",
              "      <td>1</td>\n",
              "    </tr>\n",
              "    <tr>\n",
              "      <th>4</th>\n",
              "      <td>ISIC_0000004</td>\n",
              "      <td>80.0</td>\n",
              "      <td>0</td>\n",
              "      <td>1</td>\n",
              "      <td>0</td>\n",
              "      <td>0</td>\n",
              "      <td>0</td>\n",
              "      <td>0</td>\n",
              "      <td>1</td>\n",
              "      <td>0</td>\n",
              "    </tr>\n",
              "  </tbody>\n",
              "</table>\n",
              "</div>"
            ],
            "text/plain": [
              "       img_name   age  ...  anatom_torso  anatom_upper extremity\n",
              "0  ISIC_0000000  55.0  ...             1                       0\n",
              "1  ISIC_0000001  30.0  ...             1                       0\n",
              "2  ISIC_0000002  60.0  ...             0                       1\n",
              "3  ISIC_0000003  30.0  ...             0                       1\n",
              "4  ISIC_0000004  80.0  ...             1                       0\n",
              "\n",
              "[5 rows x 10 columns]"
            ]
          },
          "metadata": {
            "tags": []
          },
          "execution_count": 11
        }
      ]
    },
    {
      "cell_type": "code",
      "metadata": {
        "id": "4KWCzygZQ9dq",
        "colab_type": "code",
        "colab": {
          "base_uri": "https://localhost:8080/",
          "height": 194
        },
        "outputId": "e368081b-bfbd-4a95-b464-b67f6662e844"
      },
      "source": [
        "train5 = pd.read_csv('isic/train_malig_2.csv') # 580 ISIC Website\n",
        "\n",
        "train5.columns = [\n",
        "    'img_name', 'id', 'sex', 'age', 'location', 'diagnosis',\n",
        "    'benign_malignant', 'target', 'width', 'height', 'source', 'ext', 'tfrecord'\n",
        "]\n",
        "\n",
        "train5['location'].fillna('unknown', inplace=True)\n",
        "\n",
        "train5['sex'].fillna('na', inplace=True)\n",
        "\n",
        "train5['age'].fillna(-5, inplace=True)\n",
        "\n",
        "sex_dummies = pd.get_dummies(train5['sex'], prefix='sex')\n",
        "train5 = pd.concat([train5, sex_dummies], axis=1)\n",
        "\n",
        "anatom_dummies = pd.get_dummies(train5['location'], prefix='anatom')\n",
        "train5 = pd.concat([train5, anatom_dummies], axis=1)\n",
        "\n",
        "cols = ['anatom_anterior torso', 'anatom_lateral torso', 'anatom_posterior torso']\n",
        "train5['anatom_torso'] = train5[cols].sum(1)\n",
        "\n",
        "train5.drop(['sex', 'sex_na', 'location', 'anatom_unknown', 'target','id','diagnosis','benign_malignant', 'width', 'height', 'tfrecord', 'source', 'ext'], axis=1, inplace=True)\n",
        "train5.drop(cols, axis=1, inplace=True)\n",
        "\n",
        "cols = ['anatom_upper extremity',\t'anatom_torso']\n",
        "train5 = train5[[c for c in train5 if c not in cols] + [cols[1], cols[0]]]\n",
        "\n",
        "train5['anatom_oral/genital'] = 0\n",
        "\n",
        "cols = ['anatom_palms/soles', 'anatom_torso', 'anatom_upper extremity']\n",
        "train5 = train5[[c for c in train5 if c not in cols] + [cols[0], cols[1], cols[2]]]\n",
        "\n",
        "train5.head()"
      ],
      "execution_count": null,
      "outputs": [
        {
          "output_type": "execute_result",
          "data": {
            "text/html": [
              "<div>\n",
              "<style scoped>\n",
              "    .dataframe tbody tr th:only-of-type {\n",
              "        vertical-align: middle;\n",
              "    }\n",
              "\n",
              "    .dataframe tbody tr th {\n",
              "        vertical-align: top;\n",
              "    }\n",
              "\n",
              "    .dataframe thead th {\n",
              "        text-align: right;\n",
              "    }\n",
              "</style>\n",
              "<table border=\"1\" class=\"dataframe\">\n",
              "  <thead>\n",
              "    <tr style=\"text-align: right;\">\n",
              "      <th></th>\n",
              "      <th>img_name</th>\n",
              "      <th>age</th>\n",
              "      <th>sex_female</th>\n",
              "      <th>sex_male</th>\n",
              "      <th>anatom_head/neck</th>\n",
              "      <th>anatom_lower extremity</th>\n",
              "      <th>anatom_oral/genital</th>\n",
              "      <th>anatom_palms/soles</th>\n",
              "      <th>anatom_torso</th>\n",
              "      <th>anatom_upper extremity</th>\n",
              "    </tr>\n",
              "  </thead>\n",
              "  <tbody>\n",
              "    <tr>\n",
              "      <th>0</th>\n",
              "      <td>ISIC_0000070</td>\n",
              "      <td>25.0</td>\n",
              "      <td>0</td>\n",
              "      <td>1</td>\n",
              "      <td>0</td>\n",
              "      <td>0</td>\n",
              "      <td>0</td>\n",
              "      <td>0</td>\n",
              "      <td>1</td>\n",
              "      <td>0</td>\n",
              "    </tr>\n",
              "    <tr>\n",
              "      <th>1</th>\n",
              "      <td>ISIC_0000076</td>\n",
              "      <td>55.0</td>\n",
              "      <td>0</td>\n",
              "      <td>1</td>\n",
              "      <td>0</td>\n",
              "      <td>0</td>\n",
              "      <td>0</td>\n",
              "      <td>0</td>\n",
              "      <td>1</td>\n",
              "      <td>0</td>\n",
              "    </tr>\n",
              "    <tr>\n",
              "      <th>2</th>\n",
              "      <td>ISIC_0000144</td>\n",
              "      <td>-5.0</td>\n",
              "      <td>0</td>\n",
              "      <td>0</td>\n",
              "      <td>0</td>\n",
              "      <td>0</td>\n",
              "      <td>0</td>\n",
              "      <td>0</td>\n",
              "      <td>0</td>\n",
              "      <td>0</td>\n",
              "    </tr>\n",
              "    <tr>\n",
              "      <th>3</th>\n",
              "      <td>ISIC_0000158</td>\n",
              "      <td>30.0</td>\n",
              "      <td>1</td>\n",
              "      <td>0</td>\n",
              "      <td>0</td>\n",
              "      <td>0</td>\n",
              "      <td>0</td>\n",
              "      <td>0</td>\n",
              "      <td>0</td>\n",
              "      <td>1</td>\n",
              "    </tr>\n",
              "    <tr>\n",
              "      <th>4</th>\n",
              "      <td>ISIC_0000284</td>\n",
              "      <td>80.0</td>\n",
              "      <td>0</td>\n",
              "      <td>1</td>\n",
              "      <td>1</td>\n",
              "      <td>0</td>\n",
              "      <td>0</td>\n",
              "      <td>0</td>\n",
              "      <td>0</td>\n",
              "      <td>0</td>\n",
              "    </tr>\n",
              "  </tbody>\n",
              "</table>\n",
              "</div>"
            ],
            "text/plain": [
              "       img_name   age  ...  anatom_torso  anatom_upper extremity\n",
              "0  ISIC_0000070  25.0  ...             1                       0\n",
              "1  ISIC_0000076  55.0  ...             1                       0\n",
              "2  ISIC_0000144  -5.0  ...             0                       0\n",
              "3  ISIC_0000158  30.0  ...             0                       1\n",
              "4  ISIC_0000284  80.0  ...             0                       0\n",
              "\n",
              "[5 rows x 10 columns]"
            ]
          },
          "metadata": {
            "tags": []
          },
          "execution_count": 12
        }
      ]
    },
    {
      "cell_type": "code",
      "metadata": {
        "id": "9L_zVtp0gJ3W",
        "colab_type": "code",
        "colab": {}
      },
      "source": [
        "meta_df = pd.concat([train, train2, train5])\n",
        "test_meta_df = test"
      ],
      "execution_count": null,
      "outputs": []
    },
    {
      "cell_type": "markdown",
      "metadata": {
        "id": "sWixylOGuvzT",
        "colab_type": "text"
      },
      "source": [
        "#### Dataset"
      ]
    },
    {
      "cell_type": "code",
      "metadata": {
        "id": "p97FNaLVuesJ",
        "colab_type": "code",
        "colab": {}
      },
      "source": [
        "from torch.utils.data import Dataset, DataLoader\n",
        "from PIL import Image\n",
        "\n",
        "class ImageDataset(Dataset):\n",
        "    def __init__(self, dataframe, meta_df, root_dir, folds, transform=None, mode='train'):\n",
        "        self.df = dataframe\n",
        "        self.meta_df = meta_df\n",
        "        self.root_dir = root_dir\n",
        "        self.transform = transform\n",
        "        self.folds = folds\n",
        "        self.mode = mode\n",
        "\n",
        "        self.paths = self.df.image_name.values\n",
        "        self.labels = self.df['target'].values\n",
        "\n",
        "    def __len__(self):\n",
        "        return len(self.df)\n",
        "    \n",
        "    def __getitem__(self, idx):\n",
        "        img_name = self.paths[idx]\n",
        "        imgs = []\n",
        "        img_path = f'{self.root_dir}{img_name}.jpg'\n",
        "        img = cv2.imread(img_path)\n",
        "        if img is None:\n",
        "          img_path = f'isic2019/{self.root_dir}{img_name}.jpg'\n",
        "          img = cv2.imread(img_path)\n",
        "          if img is None:\n",
        "            img_path = f'isic/jpeg512/{img_name}.jpg'\n",
        "            img = cv2.imread(img_path)\n",
        "        img = cv2.cvtColor(img, cv2.COLOR_BGR2RGB)\n",
        "        \n",
        "        if self.transform is not None:\n",
        "          img = self.transform(image=img)['image']\n",
        "        # imgs = (255 - imgs).astype(np.float32) / 255.\n",
        "        img = np.rollaxis(img, -1, 0)\n",
        "\n",
        "        meta_data = np.array(self.meta_df[self.meta_df['img_name']==img_name].values[0][1:]).astype(np.float32)\n",
        "        # Meta Aug\n",
        "        if self.mode == 'train' or self.mode == 'val2' or self.mode == 'test2':\n",
        "          if torch.rand(1) < 0.1:\n",
        "            meta_data[0] = -5\n",
        "          if torch.rand(1) < 0.1:\n",
        "            meta_data[3:] = 0\n",
        "          if torch.rand(1) < 0.1:\n",
        "            meta_data[1:3] = 0\n",
        "\n",
        "        if self.mode != 'test' and self.mode != 'test2':\n",
        "          labels = np.array(self.labels[idx]).astype(np.long)\n",
        "          return [img, meta_data, labels]\n",
        "        else:\n",
        "          return [img, meta_data]"
      ],
      "execution_count": null,
      "outputs": []
    },
    {
      "cell_type": "markdown",
      "metadata": {
        "id": "4uMauTcMxLk7",
        "colab_type": "text"
      },
      "source": [
        "#### Model"
      ]
    },
    {
      "cell_type": "code",
      "metadata": {
        "id": "WhrbPWmXxHrE",
        "colab_type": "code",
        "colab": {}
      },
      "source": [
        "!pip install pytorchcv --quiet\n",
        "!pip install timm --quiet\n",
        "import timm\n",
        "from pytorchcv.model_provider import get_model\n",
        "\n",
        "class FCN(torch.nn.Module):\n",
        "  def __init__(self, base, in_f, num_classes, in_meta, dropout=True):\n",
        "    super(FCN, self).__init__()\n",
        "    self.base = base\n",
        "    self.after_model = nn.Sequential(\n",
        "        nn.Dropout(0.4, inplace=False),\n",
        "        nn.Flatten()\n",
        "    )\n",
        "    self.classification = nn.Sequential(\n",
        "        nn.Linear(in_f, 1024),\n",
        "        nn.BatchNorm1d(1024),\n",
        "        nn.ReLU(),\n",
        "        nn.Linear(1024, num_classes)\n",
        "    )\n",
        "    self.meta = nn.Sequential(\n",
        "        # nn.Linear(in_meta, 256),\n",
        "        # nn.BatchNorm1d(256),\n",
        "        # nn.ReLU(),\n",
        "        # nn.Dropout(0.4),\n",
        "        # nn.Linear(256, 512),\n",
        "        # nn.BatchNorm1d(512),\n",
        "        # nn.ReLU(),\n",
        "        # nn.Dropout(0.4)\n",
        "\n",
        "        nn.Linear(in_meta, 1024),\n",
        "        nn.BatchNorm1d(1024),\n",
        "        nn.ReLU(),\n",
        "        nn.Dropout(0.8),\n",
        "        nn.Linear(1024, 512),\n",
        "        nn.BatchNorm1d(512),\n",
        "        nn.ReLU(),\n",
        "        nn.Dropout(0.5)\n",
        "    )\n",
        "    self.classification_meta = nn.Sequential(\n",
        "        nn.Linear(in_f+512, 1024),\n",
        "        nn.BatchNorm1d(1024),\n",
        "        nn.ReLU(),\n",
        "        nn.Linear(1024, num_classes)\n",
        "    )\n",
        "  \n",
        "  def forward(self, x, meta):\n",
        "    x = self.base(x)\n",
        "    x = self.after_model(x)\n",
        "    meta = self.meta(meta)\n",
        "    features = torch.cat((x,meta),dim=1)\n",
        "    x = self.classification_meta(features)\n",
        "    return x\n",
        "\n",
        "def create_model(name, freeze=False):\n",
        "    model = get_model(name, pretrained=True)\n",
        "    # model = timm.create_model(name, pretrained=True)\n",
        "    try:\n",
        "      features = list(model.children())[-1].in_features\n",
        "    except:\n",
        "      try:\n",
        "        features = list(model.children())[-1][-1].in_features\n",
        "      except:\n",
        "        features = list(model.children())[-2].in_features\n",
        "    model = nn.Sequential(*list(model.children())[:-1]) # Remove original output layer\n",
        "    # model[0].final_pool = nn.Sequential(nn.AdaptiveAvgPool2d(1))\n",
        "    # model[-1] = nn.Sequential(nn.AdaptiveAvgPool2d(1))\n",
        "    \n",
        "    # Freeze Backbone\n",
        "    if freeze:\n",
        "      for name, param in model.named_parameters():\n",
        "        # if(\"bn\" not in name):\n",
        "        param.requires_grad = False\n",
        "    \n",
        "    model = FCN(model, features, config.num_classes, config.meta_features, dropout=True)\n",
        "    \n",
        "    return model\n",
        "\n",
        "model = create_model(\"efficientnet_b4b\")\n",
        "model.parameters"
      ],
      "execution_count": null,
      "outputs": []
    },
    {
      "cell_type": "markdown",
      "metadata": {
        "id": "CQCJ9XDyxmFE",
        "colab_type": "text"
      },
      "source": [
        "#### Train funcs"
      ]
    },
    {
      "cell_type": "code",
      "metadata": {
        "id": "7oQAFCx6xnnS",
        "colab_type": "code",
        "colab": {}
      },
      "source": [
        "# Focal loss from: https://github.com/facebookresearch/fvcore/blob/master/fvcore/nn/focal_loss.py\n",
        "def sigmoid_focal_loss(\n",
        "    inputs: torch.Tensor,\n",
        "    targets: torch.Tensor,\n",
        "    alpha: float = -1,\n",
        "    gamma: float = 2,\n",
        "    reduction: str = \"none\",\n",
        ") -> torch.Tensor:\n",
        "    \"\"\"\n",
        "    Loss used in RetinaNet for dense detection: https://arxiv.org/abs/1708.02002.\n",
        "    Args:\n",
        "        inputs: A float tensor of arbitrary shape.\n",
        "                The predictions for each example.\n",
        "        targets: A float tensor with the same shape as inputs. Stores the binary\n",
        "                 classification label for each element in inputs\n",
        "                (0 for the negative class and 1 for the positive class).\n",
        "        alpha: (optional) Weighting factor in range (0,1) to balance\n",
        "                positive vs negative examples. Default = -1 (no weighting).\n",
        "        gamma: Exponent of the modulating factor (1 - p_t) to\n",
        "               balance easy vs hard examples.\n",
        "        reduction: 'none' | 'mean' | 'sum'\n",
        "                 'none': No reduction will be applied to the output.\n",
        "                 'mean': The output will be averaged.\n",
        "                 'sum': The output will be summed.\n",
        "    Returns:\n",
        "        Loss tensor with the reduction option applied.\n",
        "    \"\"\"\n",
        "    p = torch.sigmoid(inputs)\n",
        "    ce_loss = F.binary_cross_entropy_with_logits(inputs, targets, reduction=\"none\")\n",
        "    p_t = p * targets + (1 - p) * (1 - targets)\n",
        "    loss = ce_loss * ((1 - p_t) ** gamma)\n",
        "\n",
        "    if alpha >= 0:\n",
        "        alpha_t = alpha * targets + (1 - alpha) * (1 - targets)\n",
        "        loss = alpha_t * loss\n",
        "\n",
        "    if reduction == \"mean\":\n",
        "        loss = loss.mean()\n",
        "    elif reduction == \"sum\":\n",
        "        loss = loss.sum()\n",
        "\n",
        "    return loss\n",
        "\n",
        "def criterion1(pred1, targets):\n",
        "  y_smo = targets * (1 - config.label_smoothing) + 0.5 * config.label_smoothing\n",
        "  # l1 = F.binary_cross_entropy_with_logits(pred1[:,0], y_smo, pos_weight=torch.tensor(config.pos_weight))\n",
        "  l1 = sigmoid_focal_loss(pred1[:,0], y_smo, alpha=0.75, reduction='mean')\n",
        "  return l1\n",
        "\n",
        "def train_model(epoch, optimizer, scaler=None, scheduler=None, history=None):\n",
        "    model.train()\n",
        "    total_loss = 0\n",
        "\n",
        "    t = tqdm(train_loader)\n",
        "    for batch_idx, (img_batch, meta_batch, y_batch) in enumerate(t):\n",
        "        img_batch = img_batch.cuda().float()\n",
        "        y_batch = y_batch.cuda().float()\n",
        "        meta_batch = meta_batch.cuda().float()\n",
        "        \n",
        "        rand = np.random.rand()\n",
        "        if rand < config.mixup:\n",
        "            pass\n",
        "        elif rand < config.cutmix:\n",
        "            pass\n",
        "        else:\n",
        "            if config.scale:\n",
        "              with amp.autocast():\n",
        "                output1 = model(img_batch, meta_batch)\n",
        "                loss = criterion1(output1, y_batch) / config.accumulation_steps\n",
        "            else:\n",
        "              output1 = model(img_batch, meta_batch)\n",
        "              loss = criterion1(output1, y_batch) / config.accumulation_steps\n",
        "\n",
        "        total_loss += loss.data.cpu().numpy() * config.accumulation_steps\n",
        "        t.set_description(f'Epoch {epoch+1}/{n_epochs}, LR: %6f, Loss: %.4f'%(optimizer.state_dict()['param_groups'][0]['lr'],total_loss/(batch_idx+1)))\n",
        "\n",
        "        if history is not None:\n",
        "          history.loc[epoch + batch_idx / len(train_loader), 'train_loss'] = loss.data.cpu().numpy()\n",
        "          history.loc[epoch + batch_idx / len(train_loader), 'lr'] = optimizer.state_dict()['param_groups'][0]['lr']\n",
        "        \n",
        "        if config.scale:\n",
        "          scaler.scale(loss).backward()\n",
        "        elif config.apex:\n",
        "          with amp.scale_loss(loss, optimizer) as scaled_loss:\n",
        "            scaled_loss.backward()\n",
        "        else:\n",
        "          loss.backward()\n",
        "        \n",
        "        if (batch_idx+1) % config.accumulation_steps == 0:\n",
        "          if config.scale:\n",
        "            scaler.step(optimizer)\n",
        "            scaler.update()\n",
        "          else:\n",
        "            optimizer.step()\n",
        "          optimizer.zero_grad()\n",
        "        \n",
        "        if scheduler is not None:\n",
        "          scheduler.step(epoch)\n",
        "\n",
        "def evaluate_model(epoch, scheduler=None, history=None, no_log=False):\n",
        "    model.eval()\n",
        "    loss = 0\n",
        "    \n",
        "    preds_1 = []\n",
        "    tars_1 = []\n",
        "    with torch.no_grad():\n",
        "        t = tqdm(val_loader)\n",
        "        for img_batch, meta_batch, y_batch in t:\n",
        "            img_batch = img_batch.cuda().float()\n",
        "            y_batch = y_batch.cuda().float()\n",
        "            meta_batch = meta_batch.cuda().float()\n",
        "\n",
        "            o1 = model(img_batch, meta_batch)\n",
        "\n",
        "            l1 = criterion1(o1, y_batch)\n",
        "            loss += l1\n",
        "\n",
        "            for j in range(len(o1)):\n",
        "              preds_1.append(o1[j].data.cpu().numpy())\n",
        "            for i in y_batch:\n",
        "              tars_1.append(i.data.cpu().numpy())\n",
        "    \n",
        "    preds_1 = np.array(preds_1).T.reshape(-1)\n",
        "    \n",
        "    final_score = roc_auc_score(tars_1, preds_1)\n",
        "    \n",
        "    loss /= len(val_loader)\n",
        "    \n",
        "    if history is not None:\n",
        "      history.loc[epoch, 'val_loss'] = loss.cpu().numpy()\n",
        "      history.loc[epoch, 'auc'] = final_score\n",
        "    \n",
        "    if scheduler is not None:\n",
        "      scheduler.step(final_score)\n",
        "\n",
        "    print(f'Dev loss: %.4f, AUC: {final_score}'%(loss))\n",
        "      \n",
        "    if not no_log:\n",
        "      with open(log_name, 'a') as f:\n",
        "        f.write(f'val loss: {loss}\\n')\n",
        "        f.write(f'val AUC: {final_score}\\n')\n",
        "\n",
        "    return tars_1, preds_1, loss, final_score"
      ],
      "execution_count": null,
      "outputs": []
    },
    {
      "cell_type": "markdown",
      "metadata": {
        "id": "q474NOtTyd4t",
        "colab_type": "text"
      },
      "source": [
        "#### Dataset"
      ]
    },
    {
      "cell_type": "code",
      "metadata": {
        "id": "UQ1IpO00R1nN",
        "colab_type": "code",
        "colab": {}
      },
      "source": [
        "!pip install albumentations==0.4.3 --quiet\n",
        "import albumentations as A\n",
        "\n",
        "# From: https://www.kaggle.com/c/siim-isic-melanoma-classification/discussion/159176#961899\n",
        "from albumentations.core.transforms_interface import ImageOnlyTransform\n",
        "\n",
        "class AdvancedHairAugmentation(ImageOnlyTransform):\n",
        "  def __init__(self, hairs: int = 4, hairs_folder: str = \"\", always_apply=False, p=0.5):\n",
        "      super(AdvancedHairAugmentation, self).__init__(always_apply=always_apply, p=p)\n",
        "      self.hairs = hairs\n",
        "      self.hairs_folder = hairs_folder\n",
        "\n",
        "  def apply(self, image, **params):\n",
        "      n_hairs = random.randint(0, self.hairs)\n",
        "\n",
        "      if not n_hairs:\n",
        "          return image\n",
        "\n",
        "      height, width, _ = image.shape  # target image width and height\n",
        "      hair_images = [im for im in os.listdir(self.hairs_folder) if 'png' in im]\n",
        "\n",
        "      for _ in range(n_hairs):\n",
        "          hair = cv2.imread(os.path.join(self.hairs_folder, random.choice(hair_images)))\n",
        "          hair = cv2.cvtColor(hair, cv2.COLOR_BGR2RGB)\n",
        "          hair = cv2.flip(hair, random.choice([-1, 0, 1]))\n",
        "          hair = cv2.rotate(hair, random.choice([0, 1, 2]))\n",
        "\n",
        "          h_height, h_width, _ = hair.shape  # hair image width and height\n",
        "          roi_ho = random.randint(0, image.shape[0] - hair.shape[0])\n",
        "          roi_wo = random.randint(0, image.shape[1] - hair.shape[1])\n",
        "          roi = image[roi_ho:roi_ho + h_height, roi_wo:roi_wo + h_width]\n",
        "\n",
        "          img2gray = cv2.cvtColor(hair, cv2.COLOR_BGR2GRAY)\n",
        "          ret, mask = cv2.threshold(img2gray, 10, 255, cv2.THRESH_BINARY)\n",
        "          mask_inv = cv2.bitwise_not(mask)\n",
        "          img_bg = cv2.bitwise_and(roi, roi, mask=mask_inv)\n",
        "          hair_fg = cv2.bitwise_and(hair, hair, mask=mask)\n",
        "\n",
        "          dst = cv2.add(img_bg, hair_fg)\n",
        "          image[roi_ho:roi_ho + h_height, roi_wo:roi_wo + h_width] = dst\n",
        "      return image\n",
        "\n",
        "  def get_params_dependent_on_targets(self, params):\n",
        "      return {}\n",
        "\n",
        "  @property\n",
        "  def targets_as_params(self):\n",
        "      return [\"image\"]\n",
        "\n",
        "  def get_transform_init_args_names(self):\n",
        "      return ()"
      ],
      "execution_count": null,
      "outputs": []
    },
    {
      "cell_type": "code",
      "metadata": {
        "id": "spHI34d9ydOW",
        "colab_type": "code",
        "colab": {}
      },
      "source": [
        "# From: https://www.kaggle.com/c/siim-isic-melanoma-classification/discussion/159476#900271\n",
        "class Microscope(A.ImageOnlyTransform):\n",
        "    def __init__(self, p: float = 0.5, always_apply=False):\n",
        "        super().__init__(always_apply, p)\n",
        "\n",
        "    def apply(self, img, **params):\n",
        "        if random.random() < self.p:\n",
        "            circle = cv2.circle((np.ones(img.shape) * 255).astype(np.uint8),\n",
        "                        (img.shape[0]//2, img.shape[1]//2),\n",
        "                        random.randint(img.shape[0]//2 - 3, img.shape[0]//2 + 15),\n",
        "                        (0, 0, 0),\n",
        "                        -1)\n",
        "\n",
        "            mask = circle - 255\n",
        "            img = np.multiply(img, mask)\n",
        "\n",
        "        return img\n",
        "\n",
        "train_transform = A.Compose([\n",
        "                            A.OneOf([\n",
        "                              A.ShiftScaleRotate(scale_limit=.15, rotate_limit=80, shift_limit=0.1, border_mode=cv2.BORDER_REPLICATE, p=0.5),\n",
        "                              A.IAAAffine(shear=20, mode='constant', p=0.5),\n",
        "                              A.IAAPerspective(p=0.5),\n",
        "                            ], p=0.5),\n",
        "                            \n",
        "                            A.HorizontalFlip(p=0.5),\n",
        "                            A.VerticalFlip(p=0.5),\n",
        "                             \n",
        "                            # AdvancedHairAugmentation(hairs=10, hairs_folder='hairs/', p=0.5),\n",
        "                            A.RandomBrightnessContrast(),\n",
        "                            \n",
        "                            A.Cutout(num_holes=8, max_h_size=512//8, max_w_size=512//8, fill_value=0, p=0.3),\n",
        "                            Microscope(p=0.1),\n",
        "                            A.Normalize(always_apply=True)\n",
        "])\n",
        "\n",
        "val_transform = A.Compose([\n",
        "                          A.Normalize(always_apply=True)\n",
        "])\n",
        "\n",
        "skf = KFold(n_splits=config.folds,shuffle=True,random_state=config.seed)\n",
        "\n",
        "for fold,(idxT,idxV) in enumerate(skf.split(np.arange(15))):\n",
        "  train_dataset = ImageDataset(train_df2, meta_df, config.IMAGE_PATH, folds=idxT, transform=train_transform)\n",
        "  break"
      ],
      "execution_count": null,
      "outputs": []
    },
    {
      "cell_type": "code",
      "metadata": {
        "id": "sDju5Ixnytuz",
        "colab_type": "code",
        "colab": {
          "base_uri": "https://localhost:8080/",
          "height": 742
        },
        "outputId": "20e868f7-b0b3-40e6-a81a-55da43576392"
      },
      "source": [
        "nrow, ncol = 3, 7\n",
        "fig, axes = plt.subplots(nrow, ncol, figsize=(15, 5))\n",
        "axes = axes.flatten()\n",
        "for i, ax in enumerate(axes):\n",
        "    image, _, label = train_dataset[i]\n",
        "    image = np.rollaxis(image, 0, 3)\n",
        "    image = (image + config.mean) * config.std\n",
        "    ax.imshow(image)\n",
        "    ax.set_title(f'label: {label}')\n",
        "plt.tight_layout()"
      ],
      "execution_count": null,
      "outputs": [
        {
          "output_type": "stream",
          "text": [
            "Clipping input data to the valid range for imshow with RGB data ([0..1] for floats or [0..255] for integers).\n",
            "Clipping input data to the valid range for imshow with RGB data ([0..1] for floats or [0..255] for integers).\n",
            "Clipping input data to the valid range for imshow with RGB data ([0..1] for floats or [0..255] for integers).\n",
            "Clipping input data to the valid range for imshow with RGB data ([0..1] for floats or [0..255] for integers).\n",
            "Clipping input data to the valid range for imshow with RGB data ([0..1] for floats or [0..255] for integers).\n",
            "Clipping input data to the valid range for imshow with RGB data ([0..1] for floats or [0..255] for integers).\n",
            "Clipping input data to the valid range for imshow with RGB data ([0..1] for floats or [0..255] for integers).\n",
            "Clipping input data to the valid range for imshow with RGB data ([0..1] for floats or [0..255] for integers).\n",
            "Clipping input data to the valid range for imshow with RGB data ([0..1] for floats or [0..255] for integers).\n",
            "Clipping input data to the valid range for imshow with RGB data ([0..1] for floats or [0..255] for integers).\n",
            "Clipping input data to the valid range for imshow with RGB data ([0..1] for floats or [0..255] for integers).\n",
            "Clipping input data to the valid range for imshow with RGB data ([0..1] for floats or [0..255] for integers).\n",
            "Clipping input data to the valid range for imshow with RGB data ([0..1] for floats or [0..255] for integers).\n",
            "Clipping input data to the valid range for imshow with RGB data ([0..1] for floats or [0..255] for integers).\n",
            "Clipping input data to the valid range for imshow with RGB data ([0..1] for floats or [0..255] for integers).\n",
            "Clipping input data to the valid range for imshow with RGB data ([0..1] for floats or [0..255] for integers).\n",
            "Clipping input data to the valid range for imshow with RGB data ([0..1] for floats or [0..255] for integers).\n",
            "Clipping input data to the valid range for imshow with RGB data ([0..1] for floats or [0..255] for integers).\n",
            "Clipping input data to the valid range for imshow with RGB data ([0..1] for floats or [0..255] for integers).\n",
            "Clipping input data to the valid range for imshow with RGB data ([0..1] for floats or [0..255] for integers).\n",
            "Clipping input data to the valid range for imshow with RGB data ([0..1] for floats or [0..255] for integers).\n"
          ],
          "name": "stderr"
        },
        {
          "output_type": "display_data",
          "data": {
            "image/png": "[encoded data removed]",
            "text/plain": [
              "<Figure size 1080x360 with 21 Axes>"
            ]
          },
          "metadata": {
            "tags": [],
            "needs_background": "light"
          }
        }
      ]
    },
    {
      "cell_type": "markdown",
      "metadata": {
        "id": "_AfB7fE4zl1N",
        "colab_type": "text"
      },
      "source": [
        "#### Training"
      ]
    },
    {
      "cell_type": "code",
      "metadata": {
        "id": "icPt9ftIzdCC",
        "colab_type": "code",
        "colab": {
          "base_uri": "https://localhost:8080/",
          "height": 1000
        },
        "outputId": "ec335364-f0bf-41a0-99e4-a2e820bb255c"
      },
      "source": [
        "import gc\n",
        "validations = []\n",
        "\n",
        "log_name = f\"drive/My Drive/logs/log-{len(os.listdir('drive/My Drive/logs/'))}.log\"\n",
        "\n",
        "for fold,(idxT,idxV) in enumerate(skf.split(np.arange(15))):\n",
        "  if fold == config.single_fold:\n",
        "    print(f'Train Fold {fold+1}')\n",
        "    with open(log_name, 'a') as f:\n",
        "      f.write(f'Train Fold {config.single_fold+1}\\n\\n')\n",
        "\n",
        "    history = pd.DataFrame()\n",
        "    history2 = pd.DataFrame()\n",
        "\n",
        "    torch.cuda.empty_cache()\n",
        "    gc.collect()\n",
        "\n",
        "    best = -1e10\n",
        "    best2 = 1e10\n",
        "    n_epochs = config.epochs\n",
        "    early_epoch = 0\n",
        "\n",
        "    t3 = train_df2[train_df2.tfrecord.isin(idxV).reset_index(drop=True)]\n",
        "    val_dataset = ImageDataset(t3, meta_df, config.IMAGE_PATH, folds=idxV, transform=val_transform, mode='val')\n",
        "\n",
        "    data2019 = idxT*2+1\n",
        "    data2018 = idxT*2\n",
        "    \n",
        "    external = train_df3[train_df3.tfrecord.isin(data2018).reset_index(drop=True)]\n",
        "    external2 = train_df3[train_df3.tfrecord.isin(data2019).reset_index(drop=True)]\n",
        "    train_data = train_df2[train_df2.tfrecord.isin(idxT).reset_index(drop=True)]\n",
        "\n",
        "    upsam_2020 = train_df4[train_df4.tfrecord.isin(idxT).reset_index(drop=True)]\n",
        "    upsam_isic = train_df5[train_df5.tfrecord.isin(idxT+15).reset_index(drop=True)]\n",
        "    upsam_2019 = train_df6[train_df6.tfrecord.isin(data2019+30).reset_index(drop=True)]\n",
        "    upsam_2018 = train_df6[train_df6.tfrecord.isin(data2018+30).reset_index(drop=True)]\n",
        "\n",
        "    external.drop(external.tail(1).index,inplace=True)\n",
        "    train_df2 = pd.concat([train_data, external, upsam_2020, upsam_isic, upsam_2018])\n",
        "\n",
        "    train_dataset = ImageDataset(train_df2, meta_df, config.IMAGE_PATH, folds=idxT, transform=train_transform)\n",
        "\n",
        "    BATCH_SIZE = config.batch_size\n",
        "    \n",
        "    train_loader = DataLoader(dataset=train_dataset, batch_size=BATCH_SIZE, shuffle=True, num_workers=4)\n",
        "    val_loader = DataLoader(dataset=val_dataset, batch_size=64, shuffle=False, num_workers=0)\n",
        "\n",
        "    scaler = amp.GradScaler()\n",
        "\n",
        "    model = create_model(\"efficientnet_b4b\", freeze=False)\n",
        "    model = model.cuda()\n",
        "\n",
        "    optimizer = torch.optim.Adam(model.parameters(), lr=config.lr)\n",
        "    \n",
        "    if config.apex:\n",
        "      model, optimizer = amp.initialize(model, optimizer, opt_level='O1', verbosity=0)\n",
        "    \n",
        "    scheduler = torch.optim.lr_scheduler.ReduceLROnPlateau(optimizer, patience=3, mode='max', factor=0.75, verbose=True, min_lr=1e-5)\n",
        "\n",
        "    for epoch in range(n_epochs-early_epoch):\n",
        "        epoch += early_epoch\n",
        "        torch.cuda.empty_cache()\n",
        "        gc.collect()\n",
        "\n",
        "        with open(log_name, 'a') as f:\n",
        "          f.write(f'XXXXXXXXXXXXXX-- CYCLE INTER: {epoch+1} --XXXXXXXXXXXXXXXXXXX\\n')\n",
        "          lr_ = optimizer.state_dict()['param_groups'][0]['lr']\n",
        "          f.write(f'curr lr: {lr_}\\n')\n",
        "        \n",
        "        train_model(epoch, optimizer, scaler=scaler, scheduler=None, history=history)\n",
        "        \n",
        "        tars_1, preds_1, loss, kaggle = evaluate_model(epoch, scheduler=scheduler, history=history2)\n",
        "\n",
        "        if kaggle > best:\n",
        "          best = kaggle\n",
        "          print(f'Saving best model... (auc)')\n",
        "          torch.save({\n",
        "            'model_state': model.state_dict(),\n",
        "          }, f'drive/My Drive/Models/model-fld2.pth')\n",
        "          with open(log_name, 'a') as f:\n",
        "            f.write('Saving Best model... (auc)\\n\\n')\n",
        "        else:\n",
        "          with open(log_name, 'a') as f:\n",
        "            f.write('\\n')\n",
        "        if loss < best2:\n",
        "          best2 = loss\n",
        "          print(f'Saving best model... (loss)')\n",
        "          torch.save({\n",
        "            'model_state': model.state_dict(),\n",
        "          }, f'drive/My Drive/Models/model-fld2-1.pth')\n",
        "          with open(log_name, 'a') as f:\n",
        "            f.write('Saving Best model... (loss)\\n\\n')\n",
        "        else:\n",
        "          with open(log_name, 'a') as f:\n",
        "            f.write('\\n')\n",
        "    print()\n",
        "    validations.append(best)\n",
        "    break"
      ],
      "execution_count": null,
      "outputs": [
        {
          "output_type": "stream",
          "text": [
            "Train Fold 5\n"
          ],
          "name": "stdout"
        },
        {
          "output_type": "stream",
          "text": [
            "Epoch 1/15, LR: 0.000100, Loss: 0.0296: 100%|██████████| 2416/2416 [32:38<00:00,  1.23it/s]\n",
            "100%|██████████| 103/103 [02:59<00:00,  1.74s/it]\n"
          ],
          "name": "stderr"
        },
        {
          "output_type": "stream",
          "text": [
            "Dev loss: 0.0113, AUC: 0.8936469626124798\n",
            "Saving best model... (auc)\n",
            "Saving best model... (loss)\n"
          ],
          "name": "stdout"
        },
        {
          "output_type": "stream",
          "text": [
            "Epoch 2/15, LR: 0.000100, Loss: 0.0226: 100%|██████████| 2416/2416 [32:40<00:00,  1.23it/s]\n",
            "100%|██████████| 103/103 [02:56<00:00,  1.71s/it]\n"
          ],
          "name": "stderr"
        },
        {
          "output_type": "stream",
          "text": [
            "Dev loss: 0.0107, AUC: 0.896938052110466\n",
            "Saving best model... (auc)\n",
            "Saving best model... (loss)\n"
          ],
          "name": "stdout"
        },
        {
          "output_type": "stream",
          "text": [
            "Epoch 3/15, LR: 0.000100, Loss: 0.0188: 100%|██████████| 2416/2416 [32:41<00:00,  1.23it/s]\n",
            "100%|██████████| 103/103 [02:55<00:00,  1.71s/it]\n"
          ],
          "name": "stderr"
        },
        {
          "output_type": "stream",
          "text": [
            "Dev loss: 0.0110, AUC: 0.9040559126766023\n",
            "Saving best model... (auc)\n"
          ],
          "name": "stdout"
        },
        {
          "output_type": "stream",
          "text": [
            "Epoch 4/15, LR: 0.000100, Loss: 0.0166: 100%|██████████| 2416/2416 [32:44<00:00,  1.23it/s]\n",
            "100%|██████████| 103/103 [02:56<00:00,  1.72s/it]\n",
            "  0%|          | 0/2416 [00:00<?, ?it/s]"
          ],
          "name": "stderr"
        },
        {
          "output_type": "stream",
          "text": [
            "Dev loss: 0.0120, AUC: 0.8742973742973742\n"
          ],
          "name": "stdout"
        },
        {
          "output_type": "stream",
          "text": [
            "Epoch 5/15, LR: 0.000100, Loss: 0.0137: 100%|██████████| 2416/2416 [32:44<00:00,  1.23it/s]\n",
            "100%|██████████| 103/103 [02:55<00:00,  1.71s/it]\n"
          ],
          "name": "stderr"
        },
        {
          "output_type": "stream",
          "text": [
            "Dev loss: 0.0130, AUC: 0.9117287048321532\n",
            "Saving best model... (auc)\n"
          ],
          "name": "stdout"
        },
        {
          "output_type": "stream",
          "text": [
            "Epoch 6/15, LR: 0.000100, Loss: 0.0116: 100%|██████████| 2416/2416 [32:46<00:00,  1.23it/s]\n",
            "100%|██████████| 103/103 [02:56<00:00,  1.71s/it]\n",
            "  0%|          | 0/2416 [00:00<?, ?it/s]"
          ],
          "name": "stderr"
        },
        {
          "output_type": "stream",
          "text": [
            "Dev loss: 0.0157, AUC: 0.8984992950510191\n"
          ],
          "name": "stdout"
        },
        {
          "output_type": "stream",
          "text": [
            "Epoch 7/15, LR: 0.000100, Loss: 0.0101: 100%|██████████| 2416/2416 [32:45<00:00,  1.23it/s]\n",
            "100%|██████████| 103/103 [02:57<00:00,  1.73s/it]\n",
            "  0%|          | 0/2416 [00:00<?, ?it/s]"
          ],
          "name": "stderr"
        },
        {
          "output_type": "stream",
          "text": [
            "Dev loss: 0.0148, AUC: 0.895715343991206\n"
          ],
          "name": "stdout"
        },
        {
          "output_type": "stream",
          "text": [
            "Epoch 8/15, LR: 0.000100, Loss: 0.0098: 100%|██████████| 2416/2416 [32:46<00:00,  1.23it/s]\n",
            "100%|██████████| 103/103 [02:57<00:00,  1.72s/it]\n",
            "  0%|          | 0/2416 [00:00<?, ?it/s]"
          ],
          "name": "stderr"
        },
        {
          "output_type": "stream",
          "text": [
            "Dev loss: 0.0188, AUC: 0.9016177981695224\n"
          ],
          "name": "stdout"
        },
        {
          "output_type": "stream",
          "text": [
            "Epoch 9/15, LR: 0.000100, Loss: 0.0074: 100%|██████████| 2416/2416 [32:45<00:00,  1.23it/s]\n",
            "100%|██████████| 103/103 [02:56<00:00,  1.72s/it]\n",
            "  0%|          | 0/2416 [00:00<?, ?it/s]"
          ],
          "name": "stderr"
        },
        {
          "output_type": "stream",
          "text": [
            "Epoch     9: reducing learning rate of group 0 to 7.5000e-05.\n",
            "Dev loss: 0.0167, AUC: 0.9005809523050903\n"
          ],
          "name": "stdout"
        },
        {
          "output_type": "stream",
          "text": [
            "Epoch 10/15, LR: 0.000075, Loss: 0.0058: 100%|██████████| 2416/2416 [32:50<00:00,  1.23it/s]\n",
            "100%|██████████| 103/103 [03:01<00:00,  1.77s/it]\n",
            "  0%|          | 0/2416 [00:00<?, ?it/s]"
          ],
          "name": "stderr"
        },
        {
          "output_type": "stream",
          "text": [
            "Dev loss: 0.0189, AUC: 0.8978793116724151\n"
          ],
          "name": "stdout"
        },
        {
          "output_type": "stream",
          "text": [
            "Epoch 11/15, LR: 0.000075, Loss: 0.0057: 100%|██████████| 2416/2416 [32:53<00:00,  1.22it/s]\n",
            "100%|██████████| 103/103 [02:59<00:00,  1.74s/it]\n",
            "  0%|          | 0/2416 [00:00<?, ?it/s]"
          ],
          "name": "stderr"
        },
        {
          "output_type": "stream",
          "text": [
            "Dev loss: 0.0196, AUC: 0.880716260026605\n"
          ],
          "name": "stdout"
        },
        {
          "output_type": "stream",
          "text": [
            "Epoch 12/15, LR: 0.000075, Loss: 0.0047: 100%|██████████| 2416/2416 [32:55<00:00,  1.22it/s]\n",
            "100%|██████████| 103/103 [03:00<00:00,  1.75s/it]\n",
            "  0%|          | 0/2416 [00:00<?, ?it/s]"
          ],
          "name": "stderr"
        },
        {
          "output_type": "stream",
          "text": [
            "Dev loss: 0.0210, AUC: 0.8725184070011656\n"
          ],
          "name": "stdout"
        },
        {
          "output_type": "stream",
          "text": [
            "Epoch 13/15, LR: 0.000075, Loss: 0.0008:   0%|          | 1/2416 [00:02<1:34:50,  2.36s/it]"
          ],
          "name": "stderr"
        },
        {
          "output_type": "error",
          "ename": "KeyboardInterrupt",
          "evalue": "ignored",
          "traceback": [
            "\u001b[0;31m---------------------------------------------------------------------------\u001b[0m",
            "\u001b[0;31mKeyboardInterrupt\u001b[0m                         Traceback (most recent call last)",
            "\u001b[0;32m<ipython-input-20-30e49b78201d>\u001b[0m in \u001b[0;36m<module>\u001b[0;34m()\u001b[0m\n\u001b[1;32m     88\u001b[0m           \u001b[0mf\u001b[0m\u001b[0;34m.\u001b[0m\u001b[0mwrite\u001b[0m\u001b[0;34m(\u001b[0m\u001b[0;34mf'curr lr: {lr_}\\n'\u001b[0m\u001b[0;34m)\u001b[0m\u001b[0;34m\u001b[0m\u001b[0;34m\u001b[0m\u001b[0m\n\u001b[1;32m     89\u001b[0m \u001b[0;34m\u001b[0m\u001b[0m\n\u001b[0;32m---> 90\u001b[0;31m         \u001b[0mtrain_model\u001b[0m\u001b[0;34m(\u001b[0m\u001b[0mepoch\u001b[0m\u001b[0;34m,\u001b[0m \u001b[0moptimizer\u001b[0m\u001b[0;34m,\u001b[0m \u001b[0mscaler\u001b[0m\u001b[0;34m=\u001b[0m\u001b[0mscaler\u001b[0m\u001b[0;34m,\u001b[0m \u001b[0mscheduler\u001b[0m\u001b[0;34m=\u001b[0m\u001b[0;32mNone\u001b[0m\u001b[0;34m,\u001b[0m \u001b[0mhistory\u001b[0m\u001b[0;34m=\u001b[0m\u001b[0mhistory\u001b[0m\u001b[0;34m)\u001b[0m\u001b[0;34m\u001b[0m\u001b[0;34m\u001b[0m\u001b[0m\n\u001b[0m\u001b[1;32m     91\u001b[0m \u001b[0;34m\u001b[0m\u001b[0m\n\u001b[1;32m     92\u001b[0m         \u001b[0mtars_1\u001b[0m\u001b[0;34m,\u001b[0m \u001b[0mpreds_1\u001b[0m\u001b[0;34m,\u001b[0m \u001b[0mloss\u001b[0m\u001b[0;34m,\u001b[0m \u001b[0mkaggle\u001b[0m \u001b[0;34m=\u001b[0m \u001b[0mevaluate_model\u001b[0m\u001b[0;34m(\u001b[0m\u001b[0mepoch\u001b[0m\u001b[0;34m,\u001b[0m \u001b[0mscheduler\u001b[0m\u001b[0;34m=\u001b[0m\u001b[0mscheduler\u001b[0m\u001b[0;34m,\u001b[0m \u001b[0mhistory\u001b[0m\u001b[0;34m=\u001b[0m\u001b[0mhistory2\u001b[0m\u001b[0;34m)\u001b[0m\u001b[0;34m\u001b[0m\u001b[0;34m\u001b[0m\u001b[0m\n",
            "\u001b[0;32m<ipython-input-16-a03fbccea13a>\u001b[0m in \u001b[0;36mtrain_model\u001b[0;34m(epoch, optimizer, scaler, scheduler, history)\u001b[0m\n\u001b[1;32m    101\u001b[0m         \u001b[0;32mif\u001b[0m \u001b[0;34m(\u001b[0m\u001b[0mbatch_idx\u001b[0m\u001b[0;34m+\u001b[0m\u001b[0;36m1\u001b[0m\u001b[0;34m)\u001b[0m \u001b[0;34m%\u001b[0m \u001b[0mconfig\u001b[0m\u001b[0;34m.\u001b[0m\u001b[0maccumulation_steps\u001b[0m \u001b[0;34m==\u001b[0m \u001b[0;36m0\u001b[0m\u001b[0;34m:\u001b[0m\u001b[0;34m\u001b[0m\u001b[0;34m\u001b[0m\u001b[0m\n\u001b[1;32m    102\u001b[0m           \u001b[0;32mif\u001b[0m \u001b[0mconfig\u001b[0m\u001b[0;34m.\u001b[0m\u001b[0mscale\u001b[0m\u001b[0;34m:\u001b[0m\u001b[0;34m\u001b[0m\u001b[0;34m\u001b[0m\u001b[0m\n\u001b[0;32m--> 103\u001b[0;31m             \u001b[0mscaler\u001b[0m\u001b[0;34m.\u001b[0m\u001b[0mstep\u001b[0m\u001b[0;34m(\u001b[0m\u001b[0moptimizer\u001b[0m\u001b[0;34m)\u001b[0m\u001b[0;34m\u001b[0m\u001b[0;34m\u001b[0m\u001b[0m\n\u001b[0m\u001b[1;32m    104\u001b[0m             \u001b[0mscaler\u001b[0m\u001b[0;34m.\u001b[0m\u001b[0mupdate\u001b[0m\u001b[0;34m(\u001b[0m\u001b[0;34m)\u001b[0m\u001b[0;34m\u001b[0m\u001b[0;34m\u001b[0m\u001b[0m\n\u001b[1;32m    105\u001b[0m           \u001b[0;32melse\u001b[0m\u001b[0;34m:\u001b[0m\u001b[0;34m\u001b[0m\u001b[0;34m\u001b[0m\u001b[0m\n",
            "\u001b[0;32m/usr/local/lib/python3.6/dist-packages/torch/cuda/amp/grad_scaler.py\u001b[0m in \u001b[0;36mstep\u001b[0;34m(self, optimizer, *args, **kwargs)\u001b[0m\n\u001b[1;32m    291\u001b[0m         \u001b[0;32massert\u001b[0m \u001b[0mlen\u001b[0m\u001b[0;34m(\u001b[0m\u001b[0moptimizer_state\u001b[0m\u001b[0;34m[\u001b[0m\u001b[0;34m\"found_inf_per_device\"\u001b[0m\u001b[0;34m]\u001b[0m\u001b[0;34m)\u001b[0m \u001b[0;34m>\u001b[0m \u001b[0;36m0\u001b[0m\u001b[0;34m,\u001b[0m \u001b[0;34m\"No inf checks were recorded for this optimizer.\"\u001b[0m\u001b[0;34m\u001b[0m\u001b[0;34m\u001b[0m\u001b[0m\n\u001b[1;32m    292\u001b[0m \u001b[0;34m\u001b[0m\u001b[0m\n\u001b[0;32m--> 293\u001b[0;31m         \u001b[0;32mif\u001b[0m \u001b[0;32mnot\u001b[0m \u001b[0msum\u001b[0m\u001b[0;34m(\u001b[0m\u001b[0mv\u001b[0m\u001b[0;34m.\u001b[0m\u001b[0mitem\u001b[0m\u001b[0;34m(\u001b[0m\u001b[0;34m)\u001b[0m \u001b[0;32mfor\u001b[0m \u001b[0mv\u001b[0m \u001b[0;32min\u001b[0m \u001b[0moptimizer_state\u001b[0m\u001b[0;34m[\u001b[0m\u001b[0;34m\"found_inf_per_device\"\u001b[0m\u001b[0;34m]\u001b[0m\u001b[0;34m.\u001b[0m\u001b[0mvalues\u001b[0m\u001b[0;34m(\u001b[0m\u001b[0;34m)\u001b[0m\u001b[0;34m)\u001b[0m\u001b[0;34m:\u001b[0m\u001b[0;34m\u001b[0m\u001b[0;34m\u001b[0m\u001b[0m\n\u001b[0m\u001b[1;32m    294\u001b[0m             \u001b[0mretval\u001b[0m \u001b[0;34m=\u001b[0m \u001b[0moptimizer\u001b[0m\u001b[0;34m.\u001b[0m\u001b[0mstep\u001b[0m\u001b[0;34m(\u001b[0m\u001b[0;34m*\u001b[0m\u001b[0margs\u001b[0m\u001b[0;34m,\u001b[0m \u001b[0;34m**\u001b[0m\u001b[0mkwargs\u001b[0m\u001b[0;34m)\u001b[0m\u001b[0;34m\u001b[0m\u001b[0;34m\u001b[0m\u001b[0m\n\u001b[1;32m    295\u001b[0m \u001b[0;34m\u001b[0m\u001b[0m\n",
            "\u001b[0;32m/usr/local/lib/python3.6/dist-packages/torch/cuda/amp/grad_scaler.py\u001b[0m in \u001b[0;36m<genexpr>\u001b[0;34m(.0)\u001b[0m\n\u001b[1;32m    291\u001b[0m         \u001b[0;32massert\u001b[0m \u001b[0mlen\u001b[0m\u001b[0;34m(\u001b[0m\u001b[0moptimizer_state\u001b[0m\u001b[0;34m[\u001b[0m\u001b[0;34m\"found_inf_per_device\"\u001b[0m\u001b[0;34m]\u001b[0m\u001b[0;34m)\u001b[0m \u001b[0;34m>\u001b[0m \u001b[0;36m0\u001b[0m\u001b[0;34m,\u001b[0m \u001b[0;34m\"No inf checks were recorded for this optimizer.\"\u001b[0m\u001b[0;34m\u001b[0m\u001b[0;34m\u001b[0m\u001b[0m\n\u001b[1;32m    292\u001b[0m \u001b[0;34m\u001b[0m\u001b[0m\n\u001b[0;32m--> 293\u001b[0;31m         \u001b[0;32mif\u001b[0m \u001b[0;32mnot\u001b[0m \u001b[0msum\u001b[0m\u001b[0;34m(\u001b[0m\u001b[0mv\u001b[0m\u001b[0;34m.\u001b[0m\u001b[0mitem\u001b[0m\u001b[0;34m(\u001b[0m\u001b[0;34m)\u001b[0m \u001b[0;32mfor\u001b[0m \u001b[0mv\u001b[0m \u001b[0;32min\u001b[0m \u001b[0moptimizer_state\u001b[0m\u001b[0;34m[\u001b[0m\u001b[0;34m\"found_inf_per_device\"\u001b[0m\u001b[0;34m]\u001b[0m\u001b[0;34m.\u001b[0m\u001b[0mvalues\u001b[0m\u001b[0;34m(\u001b[0m\u001b[0;34m)\u001b[0m\u001b[0;34m)\u001b[0m\u001b[0;34m:\u001b[0m\u001b[0;34m\u001b[0m\u001b[0;34m\u001b[0m\u001b[0m\n\u001b[0m\u001b[1;32m    294\u001b[0m             \u001b[0mretval\u001b[0m \u001b[0;34m=\u001b[0m \u001b[0moptimizer\u001b[0m\u001b[0;34m.\u001b[0m\u001b[0mstep\u001b[0m\u001b[0;34m(\u001b[0m\u001b[0;34m*\u001b[0m\u001b[0margs\u001b[0m\u001b[0;34m,\u001b[0m \u001b[0;34m**\u001b[0m\u001b[0mkwargs\u001b[0m\u001b[0;34m)\u001b[0m\u001b[0;34m\u001b[0m\u001b[0;34m\u001b[0m\u001b[0m\n\u001b[1;32m    295\u001b[0m \u001b[0;34m\u001b[0m\u001b[0m\n",
            "\u001b[0;31mKeyboardInterrupt\u001b[0m: "
          ]
        }
      ]
    },
    {
      "cell_type": "code",
      "metadata": {
        "id": "2xJbpg1pz_Rd",
        "colab_type": "code",
        "colab": {}
      },
      "source": [
        "history2['auc'].plot()"
      ],
      "execution_count": null,
      "outputs": []
    },
    {
      "cell_type": "code",
      "metadata": {
        "id": "wkonn1Mcy-3X",
        "colab_type": "code",
        "colab": {}
      },
      "source": [
        "# drive.flush_and_unmount()"
      ],
      "execution_count": null,
      "outputs": []
    },
    {
      "cell_type": "code",
      "metadata": {
        "id": "j3ULFYChfwTP",
        "colab_type": "code",
        "colab": {}
      },
      "source": [
        "model = create_model(\"efficientnet_b4b\")\n",
        "model = model.cuda()\n",
        "model.load_state_dict(torch.load('drive/My Drive/Models/model-fld2.pth')['model_state'])\n",
        "\n",
        "test_df = pd.read_csv('sample_submission.csv')\n",
        "\n",
        "test_transform = A.Compose([\n",
        "                          A.Normalize(always_apply=True)\n",
        "])\n",
        "\n",
        "test_dataset = ImageDataset(test_df, test_meta_df, config.TEST_PATH, folds=None, transform=test_transform, mode='test')\n",
        "test_loader = DataLoader(dataset=test_dataset, batch_size=32, shuffle=False, num_workers=0)\n",
        "\n",
        "preds = []\n",
        "\n",
        "model.eval()\n",
        "loss = 0\n",
        "\n",
        "preds_1 = []\n",
        "tars_1 = []\n",
        "with torch.no_grad():\n",
        "    t = tqdm(test_loader)\n",
        "    for img_batch, meta_batch in t:\n",
        "        img_batch = img_batch.cuda().float()\n",
        "        meta_batch = meta_batch.cuda().float()\n",
        "        o1 = model(img_batch, meta_batch)\n",
        "\n",
        "        for j in range(len(o1)):\n",
        "          preds_1.append(o1[j])\n",
        "\n",
        "preds_1 = [p.data.cpu().numpy()[0] if type(p) != int else p for p in preds_1]\n",
        "preds_1 = np.array(preds_1).T.reshape(-1)\n",
        "test_df['target'] = preds_1\n",
        "test_df.to_csv('drive/My Drive/submission2.csv', index=False)"
      ],
      "execution_count": null,
      "outputs": []
    },
    {
      "cell_type": "code",
      "metadata": {
        "id": "YBChLGMQpN0s",
        "colab_type": "code",
        "colab": {}
      },
      "source": [
        "test_df.head()"
      ],
      "execution_count": null,
      "outputs": []
    },
    {
      "cell_type": "code",
      "metadata": {
        "id": "ArWEYsD2y6Yf",
        "colab_type": "code",
        "colab": {}
      },
      "source": [
        "_ = plt.hist(preds_1, bins=100)"
      ],
      "execution_count": null,
      "outputs": []
    },
    {
      "cell_type": "code",
      "metadata": {
        "id": "apthy0GPCWXi",
        "colab_type": "code",
        "colab": {}
      },
      "source": [
        "# !kaggle competitions submit -c siim-isic-melanoma-classification -f \"drive/My Drive/submission2.csv\" -m \"Message\""
      ],
      "execution_count": null,
      "outputs": []
    },
    {
      "cell_type": "code",
      "metadata": {
        "id": "m_j0XtxSyshi",
        "colab_type": "code",
        "colab": {}
      },
      "source": [
        "def tta_pred(df, meta_df, path, transform, tta_rounds, mode='val'):\n",
        "  val_dataset = ImageDataset(df, meta_df, path, folds=idxV, transform=transform, mode=mode)\n",
        "  val_loader = DataLoader(dataset=val_dataset, batch_size=32, shuffle=False, num_workers=0)\n",
        "\n",
        "  model.eval()\n",
        "  all_preds = np.zeros((len(val_dataset),tta_rounds,config.num_classes))\n",
        "  with torch.no_grad():\n",
        "    for i in range(tta_rounds):\n",
        "      preds_1 = []\n",
        "      tars_1 = []\n",
        "      t = tqdm(val_loader)\n",
        "      if mode == 'val' or mode == 'val2':\n",
        "        for (img_batch, meta_batch, y_batch) in t:\n",
        "          img_batch = img_batch.cuda().float()\n",
        "          meta_batch = meta_batch.cuda().float()\n",
        "          o1 = model(img_batch, meta_batch)\n",
        "\n",
        "          for j in range(len(o1)):\n",
        "            preds_1.append(o1[j])\n",
        "          for i in y_batch:\n",
        "            tars_1.append(i.data.cpu().numpy())\n",
        "      elif mode == 'test' or mode == 'test2':\n",
        "        for img_batch, meta_batch in t:\n",
        "          img_batch = img_batch.cuda().float()\n",
        "          meta_batch = meta_batch.cuda().float()\n",
        "          o1 = model(img_batch, meta_batch)\n",
        "\n",
        "          for j in range(len(o1)):\n",
        "            preds_1.append(o1[j])\n",
        "          \n",
        "      all_preds[:,i] = [p.data.cpu().numpy() for p in preds_1]\n",
        "\n",
        "  preds_1 = np.mean(all_preds, axis=1)\n",
        "  preds_1 = np.array(preds_1).T.reshape(-1)\n",
        "  if mode == 'val' or mode == 'val2':\n",
        "    return preds_1, tars_1\n",
        "  else:\n",
        "    return preds_1"
      ],
      "execution_count": null,
      "outputs": []
    },
    {
      "cell_type": "code",
      "metadata": {
        "id": "uqH9x6o4Z_E0",
        "colab_type": "code",
        "colab": {}
      },
      "source": [
        "model = create_model(\"efficientnet_b4b\")\n",
        "model = model.cuda()\n",
        "model.load_state_dict(torch.load('drive/My Drive/Models/model-fld2.pth')['model_state'])\n",
        "\n",
        "test_df = pd.read_csv('sample_submission.csv')\n",
        "\n",
        "test_transform = A.Compose([\n",
        "                          A.Normalize(always_apply=True)\n",
        "])\n",
        "\n",
        "train_transform = A.Compose([\n",
        "                            A.OneOf([\n",
        "                              A.ShiftScaleRotate(scale_limit=.15, rotate_limit=80, shift_limit=0.1, border_mode=cv2.BORDER_REPLICATE, p=0.5),\n",
        "                              A.IAAAffine(shear=20, mode='constant', p=0.5),\n",
        "                              A.IAAPerspective(p=0.5),\n",
        "                            ], p=0.5),\n",
        "                             \n",
        "                            A.HorizontalFlip(p=0.5),\n",
        "                            A.VerticalFlip(p=0.5),\n",
        "                             \n",
        "                            # AdvancedHairAugmentation(hairs=10, hairs_folder='hairs/', p=0.5),\n",
        "                            A.RandomBrightnessContrast(),\n",
        "                            \n",
        "                            A.Cutout(num_holes=8, max_h_size=512//8, max_w_size=512//8, fill_value=0, p=0.3),\n",
        "                            Microscope(p=0.1),\n",
        "                            A.Normalize(always_apply=True)\n",
        "])\n",
        "\n",
        "BATCH_SIZE = config.batch_size\n",
        "\n",
        "# train_df2 = pd.read_csv('train.csv')\n",
        "# t3 = train_df2[train_df2.tfrecord.isin(idxV).reset_index(drop=True)]\n",
        "# preds_1, tars_1 = tta_pred(t3, meta_df, config.IMAGE_PATH, train_transform, 1, mode='val')\n",
        "# preds_1, tars_1 = tta_pred(t3, meta_df, config.IMAGE_PATH, test_transform, 1, mode='val')\n",
        "\n",
        "preds_1 = tta_pred(test_df, test_meta_df, config.TEST_PATH, train_transform, 10, mode='test2')\n",
        "\n",
        "test_df['target'] = preds_1\n",
        "test_df.to_csv('drive/My Drive/submission.csv', index=False)"
      ],
      "execution_count": null,
      "outputs": []
    },
    {
      "cell_type": "code",
      "metadata": {
        "id": "h7abQ8_0BmcX",
        "colab_type": "code",
        "colab": {
          "base_uri": "https://localhost:8080/"
        },
        "outputId": "bd75e09e-d41d-47c6-d44d-338a7ea75d14"
      },
      "source": [
        "test_df.head()"
      ],
      "execution_count": null,
      "outputs": [
        {
          "output_type": "execute_result",
          "data": {
            "text/html": [
              "<div>\n",
              "<style scoped>\n",
              "    .dataframe tbody tr th:only-of-type {\n",
              "        vertical-align: middle;\n",
              "    }\n",
              "\n",
              "    .dataframe tbody tr th {\n",
              "        vertical-align: top;\n",
              "    }\n",
              "\n",
              "    .dataframe thead th {\n",
              "        text-align: right;\n",
              "    }\n",
              "</style>\n",
              "<table border=\"1\" class=\"dataframe\">\n",
              "  <thead>\n",
              "    <tr style=\"text-align: right;\">\n",
              "      <th></th>\n",
              "      <th>image_name</th>\n",
              "      <th>target</th>\n",
              "    </tr>\n",
              "  </thead>\n",
              "  <tbody>\n",
              "    <tr>\n",
              "      <th>0</th>\n",
              "      <td>ISIC_0052060</td>\n",
              "      <td>-5.519484</td>\n",
              "    </tr>\n",
              "    <tr>\n",
              "      <th>1</th>\n",
              "      <td>ISIC_0052349</td>\n",
              "      <td>-6.483155</td>\n",
              "    </tr>\n",
              "    <tr>\n",
              "      <th>2</th>\n",
              "      <td>ISIC_0058510</td>\n",
              "      <td>-6.977476</td>\n",
              "    </tr>\n",
              "    <tr>\n",
              "      <th>3</th>\n",
              "      <td>ISIC_0073313</td>\n",
              "      <td>-6.525477</td>\n",
              "    </tr>\n",
              "    <tr>\n",
              "      <th>4</th>\n",
              "      <td>ISIC_0073502</td>\n",
              "      <td>-2.064997</td>\n",
              "    </tr>\n",
              "  </tbody>\n",
              "</table>\n",
              "</div>"
            ],
            "text/plain": [
              "     image_name    target\n",
              "0  ISIC_0052060 -5.519484\n",
              "1  ISIC_0052349 -6.483155\n",
              "2  ISIC_0058510 -6.977476\n",
              "3  ISIC_0073313 -6.525477\n",
              "4  ISIC_0073502 -2.064997"
            ]
          },
          "metadata": {
            "tags": []
          },
          "execution_count": 24
        }
      ]
    },
    {
      "cell_type": "code",
      "metadata": {
        "id": "Bj-OrqQzBqbm",
        "colab_type": "code",
        "colab": {
          "base_uri": "https://localhost:8080/"
        },
        "outputId": "27664a7a-4b90-48c2-c69d-a5459a27a9b9"
      },
      "source": [
        "_ = plt.hist(preds_1, bins=100)"
      ],
      "execution_count": null,
      "outputs": [
        {
          "output_type": "display_data",
          "data": {
            "image/png": "[encoded data removed]",
            "text/plain": [
              "<Figure size 432x288 with 1 Axes>"
            ]
          },
          "metadata": {
            "tags": [],
            "needs_background": "light"
          }
        }
      ]
    },
    {
      "cell_type": "code",
      "metadata": {
        "id": "7mk_-9P-BuIJ",
        "colab_type": "code",
        "colab": {}
      },
      "source": [
        "# !kaggle competitions submit -c siim-isic-melanoma-classification -f 'drive/My Drive/submission.csv' -m \"Message\""
      ],
      "execution_count": null,
      "outputs": []
    },
    {
      "cell_type": "code",
      "metadata": {
        "id": "ZIqICCLLczR2",
        "colab_type": "code",
        "colab": {}
      },
      "source": [
        "# final_score = roc_auc_score(tars_1, preds_1)\n",
        "# print(f'AUC with TTA: {final_score}')"
      ],
      "execution_count": null,
      "outputs": []
    },
    {
      "cell_type": "code",
      "metadata": {
        "id": "oMqPjgnjjJPK",
        "colab_type": "code",
        "colab": {}
      },
      "source": [
        ""
      ],
      "execution_count": null,
      "outputs": []
    }
  ]
}